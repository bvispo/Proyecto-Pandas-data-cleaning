{
 "cells": [
  {
   "cell_type": "markdown",
   "id": "4f29da99",
   "metadata": {},
   "source": [
    "### 1. Import Numpy, Pandas and  Redex alias them to `np` and `pd` respectively."
   ]
  },
  {
   "cell_type": "code",
   "execution_count": 1,
   "id": "d621b72d",
   "metadata": {},
   "outputs": [],
   "source": [
    "import pandas as pd\n",
    "import numpy as np\n",
    "import re"
   ]
  },
  {
   "cell_type": "markdown",
   "id": "e766a469",
   "metadata": {},
   "source": [
    "### 2. We are going to import out dataframe."
   ]
  },
  {
   "cell_type": "code",
   "execution_count": 2,
   "id": "86ddcdb3",
   "metadata": {},
   "outputs": [],
   "source": [
    "df = pd.read_csv(\"data/attacks.csv\",encoding = \"ISO-8859-1\") #To load the data csv"
   ]
  },
  {
   "cell_type": "markdown",
   "id": "d190847e",
   "metadata": {},
   "source": [
    "### 3. First we want to take a look at out data"
   ]
  },
  {
   "cell_type": "code",
   "execution_count": null,
   "id": "16f3ec78",
   "metadata": {},
   "outputs": [],
   "source": [
    "df.head()"
   ]
  },
  {
   "cell_type": "code",
   "execution_count": null,
   "id": "e402dbad",
   "metadata": {},
   "outputs": [],
   "source": [
    "df.shape"
   ]
  },
  {
   "cell_type": "code",
   "execution_count": null,
   "id": "e4113135",
   "metadata": {},
   "outputs": [],
   "source": [
    "df.keys()"
   ]
  },
  {
   "cell_type": "code",
   "execution_count": null,
   "id": "44e4aead",
   "metadata": {},
   "outputs": [],
   "source": [
    "df[\"Unnamed: 22\"].unique()\n",
    "df[\"Unnamed: 23\"].unique()\n",
    "df[\"href formula\"].unique()\n",
    "df[\"Case Number.1\"].unique()\n",
    "df[\"Case Number.2\"].unique()\n",
    "df[\"original order\"].unique()\n",
    "df[\"Investigator or Source\"].unique()"
   ]
  },
  {
   "cell_type": "markdown",
   "id": "bbb714e6",
   "metadata": {},
   "source": [
    "After looking at the unique values of some of the columns in out initial dataframe, we have seen that there are some colums that does not provide us importan information to find conclusions, so we are going do delate them from our dataframe:"
   ]
  },
  {
   "cell_type": "code",
   "execution_count": 3,
   "id": "18934c25",
   "metadata": {},
   "outputs": [],
   "source": [
    "df.drop([\"href\", \"Unnamed: 22\", \"Unnamed: 23\", \"href formula\", \"pdf\", \"Case Number.1\", \"Case Number.2\", \"original order\", \"Investigator or Source\" ], axis=1, inplace=True)"
   ]
  },
  {
   "cell_type": "code",
   "execution_count": null,
   "id": "7dcf1a3c",
   "metadata": {},
   "outputs": [],
   "source": [
    "df.shape"
   ]
  },
  {
   "cell_type": "markdown",
   "id": "5a18ecb3",
   "metadata": {},
   "source": [
    "We are going to drop all of the dataset duplicate values and save out new dateframe in df2:"
   ]
  },
  {
   "cell_type": "code",
   "execution_count": 4,
   "id": "fc7896a6",
   "metadata": {},
   "outputs": [],
   "source": [
    "df2 = df.drop_duplicates()"
   ]
  },
  {
   "cell_type": "code",
   "execution_count": 5,
   "id": "3d75bce0",
   "metadata": {},
   "outputs": [
    {
     "data": {
      "text/plain": [
       "(6305, 15)"
      ]
     },
     "execution_count": 5,
     "metadata": {},
     "output_type": "execute_result"
    }
   ],
   "source": [
    "df2.shape"
   ]
  },
  {
   "cell_type": "code",
   "execution_count": null,
   "id": "a1c25c1b",
   "metadata": {},
   "outputs": [],
   "source": [
    "df2.keys()"
   ]
  },
  {
   "cell_type": "code",
   "execution_count": null,
   "id": "1f86d392",
   "metadata": {},
   "outputs": [],
   "source": [
    "df2.head()"
   ]
  },
  {
   "cell_type": "code",
   "execution_count": null,
   "id": "7a35dba5",
   "metadata": {},
   "outputs": [],
   "source": [
    "df2.info()"
   ]
  },
  {
   "cell_type": "markdown",
   "id": "3e6baba6",
   "metadata": {},
   "source": [
    "Now we are going to rename some of the dataset columns as there are some spaces within them"
   ]
  },
  {
   "cell_type": "code",
   "execution_count": 6,
   "id": "36a81816",
   "metadata": {},
   "outputs": [
    {
     "data": {
      "text/plain": [
       "['Case Number',\n",
       " 'Date',\n",
       " 'Year',\n",
       " 'Type',\n",
       " 'Country',\n",
       " 'Area',\n",
       " 'Location',\n",
       " 'Activity',\n",
       " 'Name',\n",
       " 'Sex ',\n",
       " 'Age',\n",
       " 'Injury',\n",
       " 'Fatal (Y/N)',\n",
       " 'Time',\n",
       " 'Species ']"
      ]
     },
     "execution_count": 6,
     "metadata": {},
     "output_type": "execute_result"
    }
   ],
   "source": [
    "columns = list(df2.columns)\n",
    "columns"
   ]
  },
  {
   "cell_type": "code",
   "execution_count": 7,
   "id": "a368fe4b",
   "metadata": {},
   "outputs": [
    {
     "name": "stderr",
     "output_type": "stream",
     "text": [
      "/Users/franciscovispo/opt/anaconda3/envs/ironhack/lib/python3.8/site-packages/pandas/core/frame.py:5039: SettingWithCopyWarning: \n",
      "A value is trying to be set on a copy of a slice from a DataFrame\n",
      "\n",
      "See the caveats in the documentation: https://pandas.pydata.org/pandas-docs/stable/user_guide/indexing.html#returning-a-view-versus-a-copy\n",
      "  return super().rename(\n"
     ]
    },
    {
     "data": {
      "text/html": [
       "<div>\n",
       "<style scoped>\n",
       "    .dataframe tbody tr th:only-of-type {\n",
       "        vertical-align: middle;\n",
       "    }\n",
       "\n",
       "    .dataframe tbody tr th {\n",
       "        vertical-align: top;\n",
       "    }\n",
       "\n",
       "    .dataframe thead th {\n",
       "        text-align: right;\n",
       "    }\n",
       "</style>\n",
       "<table border=\"1\" class=\"dataframe\">\n",
       "  <thead>\n",
       "    <tr style=\"text-align: right;\">\n",
       "      <th></th>\n",
       "      <th>CaseNumber</th>\n",
       "      <th>Date</th>\n",
       "      <th>Year</th>\n",
       "      <th>Type</th>\n",
       "      <th>Country</th>\n",
       "      <th>Area</th>\n",
       "      <th>Location</th>\n",
       "      <th>Activity</th>\n",
       "      <th>Name</th>\n",
       "      <th>Sex</th>\n",
       "      <th>Age</th>\n",
       "      <th>Injury</th>\n",
       "      <th>Fatal(Y/N)</th>\n",
       "      <th>Time</th>\n",
       "      <th>Species</th>\n",
       "    </tr>\n",
       "  </thead>\n",
       "  <tbody>\n",
       "    <tr>\n",
       "      <th>0</th>\n",
       "      <td>2018.06.25</td>\n",
       "      <td>25-Jun-2018</td>\n",
       "      <td>2018.0</td>\n",
       "      <td>Boating</td>\n",
       "      <td>USA</td>\n",
       "      <td>California</td>\n",
       "      <td>Oceanside, San Diego County</td>\n",
       "      <td>Paddling</td>\n",
       "      <td>Julie Wolfe</td>\n",
       "      <td>F</td>\n",
       "      <td>57</td>\n",
       "      <td>No injury to occupant, outrigger canoe and pad...</td>\n",
       "      <td>N</td>\n",
       "      <td>18h00</td>\n",
       "      <td>White shark</td>\n",
       "    </tr>\n",
       "    <tr>\n",
       "      <th>1</th>\n",
       "      <td>2018.06.18</td>\n",
       "      <td>18-Jun-2018</td>\n",
       "      <td>2018.0</td>\n",
       "      <td>Unprovoked</td>\n",
       "      <td>USA</td>\n",
       "      <td>Georgia</td>\n",
       "      <td>St. Simon Island, Glynn County</td>\n",
       "      <td>Standing</td>\n",
       "      <td>Adyson McNeely</td>\n",
       "      <td>F</td>\n",
       "      <td>11</td>\n",
       "      <td>Minor injury to left thigh</td>\n",
       "      <td>N</td>\n",
       "      <td>14h00  -15h00</td>\n",
       "      <td>NaN</td>\n",
       "    </tr>\n",
       "    <tr>\n",
       "      <th>2</th>\n",
       "      <td>2018.06.09</td>\n",
       "      <td>09-Jun-2018</td>\n",
       "      <td>2018.0</td>\n",
       "      <td>Invalid</td>\n",
       "      <td>USA</td>\n",
       "      <td>Hawaii</td>\n",
       "      <td>Habush, Oahu</td>\n",
       "      <td>Surfing</td>\n",
       "      <td>John Denges</td>\n",
       "      <td>M</td>\n",
       "      <td>48</td>\n",
       "      <td>Injury to left lower leg from surfboard skeg</td>\n",
       "      <td>N</td>\n",
       "      <td>07h45</td>\n",
       "      <td>NaN</td>\n",
       "    </tr>\n",
       "    <tr>\n",
       "      <th>3</th>\n",
       "      <td>2018.06.08</td>\n",
       "      <td>08-Jun-2018</td>\n",
       "      <td>2018.0</td>\n",
       "      <td>Unprovoked</td>\n",
       "      <td>AUSTRALIA</td>\n",
       "      <td>New South Wales</td>\n",
       "      <td>Arrawarra Headland</td>\n",
       "      <td>Surfing</td>\n",
       "      <td>male</td>\n",
       "      <td>M</td>\n",
       "      <td>NaN</td>\n",
       "      <td>Minor injury to lower leg</td>\n",
       "      <td>N</td>\n",
       "      <td>NaN</td>\n",
       "      <td>2 m shark</td>\n",
       "    </tr>\n",
       "    <tr>\n",
       "      <th>4</th>\n",
       "      <td>2018.06.04</td>\n",
       "      <td>04-Jun-2018</td>\n",
       "      <td>2018.0</td>\n",
       "      <td>Provoked</td>\n",
       "      <td>MEXICO</td>\n",
       "      <td>Colima</td>\n",
       "      <td>La Ticla</td>\n",
       "      <td>Free diving</td>\n",
       "      <td>Gustavo Ramos</td>\n",
       "      <td>M</td>\n",
       "      <td>NaN</td>\n",
       "      <td>Lacerations to leg &amp; hand shark PROVOKED INCIDENT</td>\n",
       "      <td>N</td>\n",
       "      <td>NaN</td>\n",
       "      <td>Tiger shark, 3m</td>\n",
       "    </tr>\n",
       "  </tbody>\n",
       "</table>\n",
       "</div>"
      ],
      "text/plain": [
       "   CaseNumber         Date    Year        Type    Country             Area  \\\n",
       "0  2018.06.25  25-Jun-2018  2018.0     Boating        USA       California   \n",
       "1  2018.06.18  18-Jun-2018  2018.0  Unprovoked        USA          Georgia   \n",
       "2  2018.06.09  09-Jun-2018  2018.0     Invalid        USA           Hawaii   \n",
       "3  2018.06.08  08-Jun-2018  2018.0  Unprovoked  AUSTRALIA  New South Wales   \n",
       "4  2018.06.04  04-Jun-2018  2018.0    Provoked     MEXICO           Colima   \n",
       "\n",
       "                         Location     Activity             Name Sex  Age  \\\n",
       "0     Oceanside, San Diego County     Paddling      Julie Wolfe   F   57   \n",
       "1  St. Simon Island, Glynn County     Standing  Adyson McNeely    F   11   \n",
       "2                    Habush, Oahu      Surfing      John Denges   M   48   \n",
       "3              Arrawarra Headland      Surfing             male   M  NaN   \n",
       "4                        La Ticla  Free diving   Gustavo Ramos    M  NaN   \n",
       "\n",
       "                                              Injury Fatal(Y/N)  \\\n",
       "0  No injury to occupant, outrigger canoe and pad...          N   \n",
       "1                         Minor injury to left thigh          N   \n",
       "2       Injury to left lower leg from surfboard skeg          N   \n",
       "3                          Minor injury to lower leg          N   \n",
       "4  Lacerations to leg & hand shark PROVOKED INCIDENT          N   \n",
       "\n",
       "            Time          Species  \n",
       "0          18h00      White shark  \n",
       "1  14h00  -15h00              NaN  \n",
       "2          07h45              NaN  \n",
       "3            NaN        2 m shark  \n",
       "4            NaN  Tiger shark, 3m  "
      ]
     },
     "execution_count": 7,
     "metadata": {},
     "output_type": "execute_result"
    }
   ],
   "source": [
    "new_columns = {column: column.replace(\" \", \"\") for column in columns}\n",
    "new_columns\n",
    "df2.rename(columns = new_columns, inplace=True)\n",
    "df2.head()"
   ]
  },
  {
   "cell_type": "markdown",
   "id": "5c4e0410",
   "metadata": {},
   "source": [
    "# 4. Cleaning Variables"
   ]
  },
  {
   "cell_type": "markdown",
   "id": "dbb388f6",
   "metadata": {},
   "source": [
    "## 4.1 Through str.methods( ):"
   ]
  },
  {
   "cell_type": "markdown",
   "id": "d5f7f97d",
   "metadata": {},
   "source": [
    "#### 4.1.1 Cleaning variable \"SEX\""
   ]
  },
  {
   "cell_type": "code",
   "execution_count": null,
   "id": "7ea86b9a",
   "metadata": {},
   "outputs": [],
   "source": [
    "list(df2[\"Sex\"].unique()) # usar replace para agrupar en 3 columnas: M, F, Unkown"
   ]
  },
  {
   "cell_type": "code",
   "execution_count": 8,
   "id": "066e758c",
   "metadata": {
    "scrolled": true
   },
   "outputs": [
    {
     "name": "stderr",
     "output_type": "stream",
     "text": [
      "<ipython-input-8-ab0fb109cd03>:1: SettingWithCopyWarning: \n",
      "A value is trying to be set on a copy of a slice from a DataFrame.\n",
      "Try using .loc[row_indexer,col_indexer] = value instead\n",
      "\n",
      "See the caveats in the documentation: https://pandas.pydata.org/pandas-docs/stable/user_guide/indexing.html#returning-a-view-versus-a-copy\n",
      "  df2[\"Sex\"] = df2[\"Sex\"].str.replace(\"lli\", \"Unknown\")\n",
      "<ipython-input-8-ab0fb109cd03>:2: FutureWarning: The default value of regex will change from True to False in a future version. In addition, single character regular expressions will *not* be treated as literal strings when regex=True.\n",
      "  df2[\"Sex\"] = df2[\"Sex\"].str.replace(\".\", \"Unknown\")\n",
      "<ipython-input-8-ab0fb109cd03>:2: SettingWithCopyWarning: \n",
      "A value is trying to be set on a copy of a slice from a DataFrame.\n",
      "Try using .loc[row_indexer,col_indexer] = value instead\n",
      "\n",
      "See the caveats in the documentation: https://pandas.pydata.org/pandas-docs/stable/user_guide/indexing.html#returning-a-view-versus-a-copy\n",
      "  df2[\"Sex\"] = df2[\"Sex\"].str.replace(\".\", \"Unknown\")\n",
      "<ipython-input-8-ab0fb109cd03>:3: SettingWithCopyWarning: \n",
      "A value is trying to be set on a copy of a slice from a DataFrame.\n",
      "Try using .loc[row_indexer,col_indexer] = value instead\n",
      "\n",
      "See the caveats in the documentation: https://pandas.pydata.org/pandas-docs/stable/user_guide/indexing.html#returning-a-view-versus-a-copy\n",
      "  df2[\"Sex\"] = df2[\"Sex\"].str.replace(\"N\", \"Unknown\")\n",
      "<ipython-input-8-ab0fb109cd03>:4: SettingWithCopyWarning: \n",
      "A value is trying to be set on a copy of a slice from a DataFrame.\n",
      "Try using .loc[row_indexer,col_indexer] = value instead\n",
      "\n",
      "See the caveats in the documentation: https://pandas.pydata.org/pandas-docs/stable/user_guide/indexing.html#returning-a-view-versus-a-copy\n",
      "  df2[\"Sex\"] = df2[\"Sex\"].str.replace(\"M \", \"M\")\n"
     ]
    },
    {
     "data": {
      "text/plain": [
       "['F', 'M', nan, 'Unknown']"
      ]
     },
     "execution_count": 8,
     "metadata": {},
     "output_type": "execute_result"
    }
   ],
   "source": [
    "df2[\"Sex\"] = df2[\"Sex\"].str.replace(\"lli\", \"Unknown\")\n",
    "df2[\"Sex\"] = df2[\"Sex\"].str.replace(\".\", \"Unknown\")\n",
    "df2[\"Sex\"] = df2[\"Sex\"].str.replace(\"N\", \"Unknown\")\n",
    "df2[\"Sex\"] = df2[\"Sex\"].str.replace(\"M \", \"M\")\n",
    "\n",
    "list(df2[\"Sex\"].unique())"
   ]
  },
  {
   "cell_type": "markdown",
   "id": "fc38bd0a",
   "metadata": {},
   "source": [
    "#### 4.1.2 Cleaning variable \"TYPE\""
   ]
  },
  {
   "cell_type": "code",
   "execution_count": 9,
   "id": "ca71b3ad",
   "metadata": {},
   "outputs": [
    {
     "name": "stderr",
     "output_type": "stream",
     "text": [
      "<ipython-input-9-369339018a8a>:2: SettingWithCopyWarning: \n",
      "A value is trying to be set on a copy of a slice from a DataFrame.\n",
      "Try using .loc[row_indexer,col_indexer] = value instead\n",
      "\n",
      "See the caveats in the documentation: https://pandas.pydata.org/pandas-docs/stable/user_guide/indexing.html#returning-a-view-versus-a-copy\n",
      "  df2[\"Type\"] = df2[\"Type\"].str.replace(\"Boating\", \"Boat\")\n",
      "<ipython-input-9-369339018a8a>:3: SettingWithCopyWarning: \n",
      "A value is trying to be set on a copy of a slice from a DataFrame.\n",
      "Try using .loc[row_indexer,col_indexer] = value instead\n",
      "\n",
      "See the caveats in the documentation: https://pandas.pydata.org/pandas-docs/stable/user_guide/indexing.html#returning-a-view-versus-a-copy\n",
      "  df2[\"Type\"] = df2[\"Type\"].str.replace(\"Boatomg\", \"Boat\")\n",
      "<ipython-input-9-369339018a8a>:6: SettingWithCopyWarning: \n",
      "A value is trying to be set on a copy of a slice from a DataFrame.\n",
      "Try using .loc[row_indexer,col_indexer] = value instead\n",
      "\n",
      "See the caveats in the documentation: https://pandas.pydata.org/pandas-docs/stable/user_guide/indexing.html#returning-a-view-versus-a-copy\n",
      "  df2[\"Type\"] = df2[\"Type\"].str.replace(\"Boat\", \"Provoked\")\n",
      "<ipython-input-9-369339018a8a>:7: SettingWithCopyWarning: \n",
      "A value is trying to be set on a copy of a slice from a DataFrame.\n",
      "Try using .loc[row_indexer,col_indexer] = value instead\n",
      "\n",
      "See the caveats in the documentation: https://pandas.pydata.org/pandas-docs/stable/user_guide/indexing.html#returning-a-view-versus-a-copy\n",
      "  df2[\"Type\"] = df2[\"Type\"].str.replace(\"Sea Disaster\", \"Unprovoked\")\n"
     ]
    },
    {
     "data": {
      "text/plain": [
       "['Provoked', 'Unprovoked', 'Invalid', 'Questionable', nan]"
      ]
     },
     "execution_count": 9,
     "metadata": {},
     "output_type": "execute_result"
    }
   ],
   "source": [
    "# we assume that this two variables are referring to a boat, so we replace the name to sum up all the values in Boat.\n",
    "df2[\"Type\"] = df2[\"Type\"].str.replace(\"Boating\", \"Boat\")\n",
    "df2[\"Type\"] = df2[\"Type\"].str.replace(\"Boatomg\", \"Boat\")\n",
    "\n",
    "# we see that we can sum up also all the variables in 4 general ones: unprovoked, provoked, questionable and invalid:\n",
    "df2[\"Type\"] = df2[\"Type\"].str.replace(\"Boat\", \"Provoked\")\n",
    "df2[\"Type\"] = df2[\"Type\"].str.replace(\"Sea Disaster\", \"Unprovoked\")\n",
    "\n",
    "list(df2[\"Type\"].unique())\n"
   ]
  },
  {
   "cell_type": "markdown",
   "id": "a41246ca",
   "metadata": {},
   "source": [
    "#### 4.1.3 Cleaning variable \"FATAL Y/N\""
   ]
  },
  {
   "cell_type": "code",
   "execution_count": 10,
   "id": "8f6ec623",
   "metadata": {},
   "outputs": [
    {
     "name": "stderr",
     "output_type": "stream",
     "text": [
      "<ipython-input-10-3b067e921e10>:1: SettingWithCopyWarning: \n",
      "A value is trying to be set on a copy of a slice from a DataFrame.\n",
      "Try using .loc[row_indexer,col_indexer] = value instead\n",
      "\n",
      "See the caveats in the documentation: https://pandas.pydata.org/pandas-docs/stable/user_guide/indexing.html#returning-a-view-versus-a-copy\n",
      "  df2[\"Fatal(Y/N)\"] = df2[\"Fatal(Y/N)\"].str.replace(\" N\", \"N\")\n",
      "<ipython-input-10-3b067e921e10>:2: SettingWithCopyWarning: \n",
      "A value is trying to be set on a copy of a slice from a DataFrame.\n",
      "Try using .loc[row_indexer,col_indexer] = value instead\n",
      "\n",
      "See the caveats in the documentation: https://pandas.pydata.org/pandas-docs/stable/user_guide/indexing.html#returning-a-view-versus-a-copy\n",
      "  df2[\"Fatal(Y/N)\"] = df2[\"Fatal(Y/N)\"].str.replace(\"N \", \"N\")\n",
      "<ipython-input-10-3b067e921e10>:3: SettingWithCopyWarning: \n",
      "A value is trying to be set on a copy of a slice from a DataFrame.\n",
      "Try using .loc[row_indexer,col_indexer] = value instead\n",
      "\n",
      "See the caveats in the documentation: https://pandas.pydata.org/pandas-docs/stable/user_guide/indexing.html#returning-a-view-versus-a-copy\n",
      "  df2[\"Fatal(Y/N)\"] = df2[\"Fatal(Y/N)\"].str.replace(\"y\", \"Y\")\n",
      "<ipython-input-10-3b067e921e10>:4: SettingWithCopyWarning: \n",
      "A value is trying to be set on a copy of a slice from a DataFrame.\n",
      "Try using .loc[row_indexer,col_indexer] = value instead\n",
      "\n",
      "See the caveats in the documentation: https://pandas.pydata.org/pandas-docs/stable/user_guide/indexing.html#returning-a-view-versus-a-copy\n",
      "  df2[\"Fatal(Y/N)\"] = df2[\"Fatal(Y/N)\"].str.replace(\"M\", \"UNKNOWN\")\n",
      "<ipython-input-10-3b067e921e10>:5: SettingWithCopyWarning: \n",
      "A value is trying to be set on a copy of a slice from a DataFrame.\n",
      "Try using .loc[row_indexer,col_indexer] = value instead\n",
      "\n",
      "See the caveats in the documentation: https://pandas.pydata.org/pandas-docs/stable/user_guide/indexing.html#returning-a-view-versus-a-copy\n",
      "  df2[\"Fatal(Y/N)\"] = df2[\"Fatal(Y/N)\"].str.replace(\"2017\", \"UNKNOWN\")\n"
     ]
    },
    {
     "data": {
      "text/plain": [
       "['N', 'Y', nan, 'UNKNOWN']"
      ]
     },
     "execution_count": 10,
     "metadata": {},
     "output_type": "execute_result"
    }
   ],
   "source": [
    "\n",
    "df2[\"Fatal(Y/N)\"] = df2[\"Fatal(Y/N)\"].str.replace(\" N\", \"N\")\n",
    "df2[\"Fatal(Y/N)\"] = df2[\"Fatal(Y/N)\"].str.replace(\"N \", \"N\")\n",
    "df2[\"Fatal(Y/N)\"] = df2[\"Fatal(Y/N)\"].str.replace(\"y\", \"Y\")\n",
    "df2[\"Fatal(Y/N)\"] = df2[\"Fatal(Y/N)\"].str.replace(\"M\", \"UNKNOWN\")\n",
    "df2[\"Fatal(Y/N)\"] = df2[\"Fatal(Y/N)\"].str.replace(\"2017\", \"UNKNOWN\")\n",
    "list(df2[\"Fatal(Y/N)\"].unique())"
   ]
  },
  {
   "cell_type": "markdown",
   "id": "1303f268",
   "metadata": {},
   "source": [
    "## 4.2 Through Regrex :"
   ]
  },
  {
   "cell_type": "code",
   "execution_count": null,
   "id": "15861c66",
   "metadata": {},
   "outputs": [],
   "source": [
    "# CON REGREX QUIERO INTENTAR LIMPIAR ACTIVITY Y AGE"
   ]
  },
  {
   "cell_type": "code",
   "execution_count": null,
   "id": "ec58c86d",
   "metadata": {},
   "outputs": [],
   "source": [
    "list(df2[\"Activity\"].unique())"
   ]
  },
  {
   "cell_type": "code",
   "execution_count": null,
   "id": "5492db9b",
   "metadata": {},
   "outputs": [],
   "source": [
    "age_values = list(df2[\"Age\"].unique())"
   ]
  },
  {
   "cell_type": "code",
   "execution_count": null,
   "id": "0ed667ef",
   "metadata": {},
   "outputs": [],
   "source": [
    "pattern = r\"\\d+\"\n"
   ]
  },
  {
   "cell_type": "code",
   "execution_count": null,
   "id": "fe2ecd4b",
   "metadata": {},
   "outputs": [],
   "source": [
    "for i in age_values:\n",
    "    age2 = re.findall(pattern, i)\n",
    "print(age2)"
   ]
  },
  {
   "cell_type": "code",
   "execution_count": null,
   "id": "6da3c585",
   "metadata": {},
   "outputs": [],
   "source": [
    "df2[\"Year\"] = df2[\"Year\"].astype(\"Int64\")\n",
    "df2.Year.isna()"
   ]
  },
  {
   "cell_type": "code",
   "execution_count": 11,
   "id": "8aea8f58",
   "metadata": {},
   "outputs": [
    {
     "data": {
      "text/plain": [
       "list"
      ]
     },
     "execution_count": 11,
     "metadata": {},
     "output_type": "execute_result"
    }
   ],
   "source": [
    "years = list(df2[\"Year\"].unique())\n",
    "type(years)"
   ]
  },
  {
   "cell_type": "code",
   "execution_count": 19,
   "id": "8334bd68",
   "metadata": {},
   "outputs": [],
   "source": [
    "def round_year (years):\n",
    "    for i in years:\n",
    "        round(i, -1)\n",
    "    return year\n",
    "    "
   ]
  },
  {
   "cell_type": "code",
   "execution_count": 20,
   "id": "c43051da",
   "metadata": {},
   "outputs": [],
   "source": [
    "round_years = map(round_year, years)"
   ]
  },
  {
   "cell_type": "code",
   "execution_count": null,
   "id": "10a01ea2",
   "metadata": {},
   "outputs": [],
   "source": [
    "import numpy as np\n",
    "years_change = [500,77,5,0]\n",
    "df2.Year.replace(years_change, np.NaN)\n",
    "df2.Year.replace('<NA>',np.NaN)"
   ]
  },
  {
   "cell_type": "code",
   "execution_count": 13,
   "id": "34447b1c",
   "metadata": {},
   "outputs": [],
   "source": [
    "def clean_year (years):\n",
    "    for i in years:\n",
    "        if i < 1543:\n",
    "            i == \"NaN\"\n",
    "    return years"
   ]
  },
  {
   "cell_type": "code",
   "execution_count": 14,
   "id": "65bf92aa",
   "metadata": {},
   "outputs": [
    {
     "ename": "NameError",
     "evalue": "name 'year' is not defined",
     "output_type": "error",
     "traceback": [
      "\u001b[0;31m---------------------------------------------------------------------------\u001b[0m",
      "\u001b[0;31mNameError\u001b[0m                                 Traceback (most recent call last)",
      "\u001b[0;32m<ipython-input-14-e214e027acba>\u001b[0m in \u001b[0;36m<module>\u001b[0;34m\u001b[0m\n\u001b[0;32m----> 1\u001b[0;31m \u001b[0mclean_year\u001b[0m\u001b[0;34m(\u001b[0m\u001b[0myear\u001b[0m\u001b[0;34m)\u001b[0m\u001b[0;34m\u001b[0m\u001b[0;34m\u001b[0m\u001b[0m\n\u001b[0m",
      "\u001b[0;31mNameError\u001b[0m: name 'year' is not defined"
     ]
    }
   ],
   "source": [
    "clean_year(year)"
   ]
  },
  {
   "cell_type": "code",
   "execution_count": null,
   "id": "25db6ab4",
   "metadata": {},
   "outputs": [],
   "source": []
  }
 ],
 "metadata": {
  "kernelspec": {
   "display_name": "ironhack",
   "language": "python",
   "name": "ironhack"
  },
  "language_info": {
   "codemirror_mode": {
    "name": "ipython",
    "version": 3
   },
   "file_extension": ".py",
   "mimetype": "text/x-python",
   "name": "python",
   "nbconvert_exporter": "python",
   "pygments_lexer": "ipython3",
   "version": "3.8.5"
  }
 },
 "nbformat": 4,
 "nbformat_minor": 5
}
