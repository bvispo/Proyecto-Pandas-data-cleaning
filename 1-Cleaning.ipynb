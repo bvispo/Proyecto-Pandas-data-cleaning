{
 "cells": [
  {
   "cell_type": "markdown",
   "id": "94191f12",
   "metadata": {},
   "source": [
    "In this jupyter notebook you can find a data cleaning project implemented in a data set that contains information about Shark Attacks.\n",
    "\n",
    "This has been made trough a combination of data wrangling, cleaning, and manipulation with Pandas, Numpy and Regrex libraries.\n",
    "\n",
    "All of the cleaning process below are implemented in order to demostrate wheter the next hypothesis are true:\n",
    "\n",
    "    H1: Women who are attacked by sharks are more likely to die than men. \n",
    "    H2: In North America, most of the people attacked were surfing.\n",
    "    H3: In 2018, persons in theirs 30s were the ones who experimented the bigger amount of attacks.\n",
    "   "
   ]
  },
  {
   "cell_type": "markdown",
   "id": "4f29da99",
   "metadata": {},
   "source": [
    "# 1. Import Numpy, Pandas and  Redex alias them to `np` and `pd` respectively."
   ]
  },
  {
   "cell_type": "code",
   "execution_count": 1,
   "id": "d621b72d",
   "metadata": {},
   "outputs": [],
   "source": [
    "# This are the libraries used in this jupyter:\n",
    "import pandas as pd\n",
    "import numpy as np\n",
    "from numpy import nan\n",
    "import re\n",
    "\n",
    "# Importing the cleaning functions:\n",
    "import src.cleaning_functions as cf"
   ]
  },
  {
   "cell_type": "markdown",
   "id": "e766a469",
   "metadata": {},
   "source": [
    "# 2. We are going to import out dataframe."
   ]
  },
  {
   "cell_type": "code",
   "execution_count": 2,
   "id": "86ddcdb3",
   "metadata": {},
   "outputs": [],
   "source": [
    "df = pd.read_csv(\"data/attacks.csv\",encoding = \"ISO-8859-1\") #To load the data csv"
   ]
  },
  {
   "cell_type": "markdown",
   "id": "18417dc7",
   "metadata": {},
   "source": [
    "# 3. EDA"
   ]
  },
  {
   "cell_type": "markdown",
   "id": "d190847e",
   "metadata": {},
   "source": [
    "### 3.1 Exploring the dataframe:"
   ]
  },
  {
   "cell_type": "code",
   "execution_count": 3,
   "id": "16f3ec78",
   "metadata": {},
   "outputs": [
    {
     "data": {
      "text/html": [
       "<div>\n",
       "<style scoped>\n",
       "    .dataframe tbody tr th:only-of-type {\n",
       "        vertical-align: middle;\n",
       "    }\n",
       "\n",
       "    .dataframe tbody tr th {\n",
       "        vertical-align: top;\n",
       "    }\n",
       "\n",
       "    .dataframe thead th {\n",
       "        text-align: right;\n",
       "    }\n",
       "</style>\n",
       "<table border=\"1\" class=\"dataframe\">\n",
       "  <thead>\n",
       "    <tr style=\"text-align: right;\">\n",
       "      <th></th>\n",
       "      <th>Case Number</th>\n",
       "      <th>Date</th>\n",
       "      <th>Year</th>\n",
       "      <th>Type</th>\n",
       "      <th>Country</th>\n",
       "      <th>Area</th>\n",
       "      <th>Location</th>\n",
       "      <th>Activity</th>\n",
       "      <th>Name</th>\n",
       "      <th>Sex</th>\n",
       "      <th>...</th>\n",
       "      <th>Species</th>\n",
       "      <th>Investigator or Source</th>\n",
       "      <th>pdf</th>\n",
       "      <th>href formula</th>\n",
       "      <th>href</th>\n",
       "      <th>Case Number.1</th>\n",
       "      <th>Case Number.2</th>\n",
       "      <th>original order</th>\n",
       "      <th>Unnamed: 22</th>\n",
       "      <th>Unnamed: 23</th>\n",
       "    </tr>\n",
       "  </thead>\n",
       "  <tbody>\n",
       "    <tr>\n",
       "      <th>0</th>\n",
       "      <td>2018.06.25</td>\n",
       "      <td>25-Jun-2018</td>\n",
       "      <td>2018.0</td>\n",
       "      <td>Boating</td>\n",
       "      <td>USA</td>\n",
       "      <td>California</td>\n",
       "      <td>Oceanside, San Diego County</td>\n",
       "      <td>Paddling</td>\n",
       "      <td>Julie Wolfe</td>\n",
       "      <td>F</td>\n",
       "      <td>...</td>\n",
       "      <td>White shark</td>\n",
       "      <td>R. Collier, GSAF</td>\n",
       "      <td>2018.06.25-Wolfe.pdf</td>\n",
       "      <td>http://sharkattackfile.net/spreadsheets/pdf_di...</td>\n",
       "      <td>http://sharkattackfile.net/spreadsheets/pdf_di...</td>\n",
       "      <td>2018.06.25</td>\n",
       "      <td>2018.06.25</td>\n",
       "      <td>6303.0</td>\n",
       "      <td>NaN</td>\n",
       "      <td>NaN</td>\n",
       "    </tr>\n",
       "    <tr>\n",
       "      <th>1</th>\n",
       "      <td>2018.06.18</td>\n",
       "      <td>18-Jun-2018</td>\n",
       "      <td>2018.0</td>\n",
       "      <td>Unprovoked</td>\n",
       "      <td>USA</td>\n",
       "      <td>Georgia</td>\n",
       "      <td>St. Simon Island, Glynn County</td>\n",
       "      <td>Standing</td>\n",
       "      <td>Adyson McNeely</td>\n",
       "      <td>F</td>\n",
       "      <td>...</td>\n",
       "      <td>NaN</td>\n",
       "      <td>K.McMurray, TrackingSharks.com</td>\n",
       "      <td>2018.06.18-McNeely.pdf</td>\n",
       "      <td>http://sharkattackfile.net/spreadsheets/pdf_di...</td>\n",
       "      <td>http://sharkattackfile.net/spreadsheets/pdf_di...</td>\n",
       "      <td>2018.06.18</td>\n",
       "      <td>2018.06.18</td>\n",
       "      <td>6302.0</td>\n",
       "      <td>NaN</td>\n",
       "      <td>NaN</td>\n",
       "    </tr>\n",
       "    <tr>\n",
       "      <th>2</th>\n",
       "      <td>2018.06.09</td>\n",
       "      <td>09-Jun-2018</td>\n",
       "      <td>2018.0</td>\n",
       "      <td>Invalid</td>\n",
       "      <td>USA</td>\n",
       "      <td>Hawaii</td>\n",
       "      <td>Habush, Oahu</td>\n",
       "      <td>Surfing</td>\n",
       "      <td>John Denges</td>\n",
       "      <td>M</td>\n",
       "      <td>...</td>\n",
       "      <td>NaN</td>\n",
       "      <td>K.McMurray, TrackingSharks.com</td>\n",
       "      <td>2018.06.09-Denges.pdf</td>\n",
       "      <td>http://sharkattackfile.net/spreadsheets/pdf_di...</td>\n",
       "      <td>http://sharkattackfile.net/spreadsheets/pdf_di...</td>\n",
       "      <td>2018.06.09</td>\n",
       "      <td>2018.06.09</td>\n",
       "      <td>6301.0</td>\n",
       "      <td>NaN</td>\n",
       "      <td>NaN</td>\n",
       "    </tr>\n",
       "    <tr>\n",
       "      <th>3</th>\n",
       "      <td>2018.06.08</td>\n",
       "      <td>08-Jun-2018</td>\n",
       "      <td>2018.0</td>\n",
       "      <td>Unprovoked</td>\n",
       "      <td>AUSTRALIA</td>\n",
       "      <td>New South Wales</td>\n",
       "      <td>Arrawarra Headland</td>\n",
       "      <td>Surfing</td>\n",
       "      <td>male</td>\n",
       "      <td>M</td>\n",
       "      <td>...</td>\n",
       "      <td>2 m shark</td>\n",
       "      <td>B. Myatt, GSAF</td>\n",
       "      <td>2018.06.08-Arrawarra.pdf</td>\n",
       "      <td>http://sharkattackfile.net/spreadsheets/pdf_di...</td>\n",
       "      <td>http://sharkattackfile.net/spreadsheets/pdf_di...</td>\n",
       "      <td>2018.06.08</td>\n",
       "      <td>2018.06.08</td>\n",
       "      <td>6300.0</td>\n",
       "      <td>NaN</td>\n",
       "      <td>NaN</td>\n",
       "    </tr>\n",
       "    <tr>\n",
       "      <th>4</th>\n",
       "      <td>2018.06.04</td>\n",
       "      <td>04-Jun-2018</td>\n",
       "      <td>2018.0</td>\n",
       "      <td>Provoked</td>\n",
       "      <td>MEXICO</td>\n",
       "      <td>Colima</td>\n",
       "      <td>La Ticla</td>\n",
       "      <td>Free diving</td>\n",
       "      <td>Gustavo Ramos</td>\n",
       "      <td>M</td>\n",
       "      <td>...</td>\n",
       "      <td>Tiger shark, 3m</td>\n",
       "      <td>A .Kipper</td>\n",
       "      <td>2018.06.04-Ramos.pdf</td>\n",
       "      <td>http://sharkattackfile.net/spreadsheets/pdf_di...</td>\n",
       "      <td>http://sharkattackfile.net/spreadsheets/pdf_di...</td>\n",
       "      <td>2018.06.04</td>\n",
       "      <td>2018.06.04</td>\n",
       "      <td>6299.0</td>\n",
       "      <td>NaN</td>\n",
       "      <td>NaN</td>\n",
       "    </tr>\n",
       "  </tbody>\n",
       "</table>\n",
       "<p>5 rows × 24 columns</p>\n",
       "</div>"
      ],
      "text/plain": [
       "  Case Number         Date    Year        Type    Country             Area  \\\n",
       "0  2018.06.25  25-Jun-2018  2018.0     Boating        USA       California   \n",
       "1  2018.06.18  18-Jun-2018  2018.0  Unprovoked        USA          Georgia   \n",
       "2  2018.06.09  09-Jun-2018  2018.0     Invalid        USA           Hawaii   \n",
       "3  2018.06.08  08-Jun-2018  2018.0  Unprovoked  AUSTRALIA  New South Wales   \n",
       "4  2018.06.04  04-Jun-2018  2018.0    Provoked     MEXICO           Colima   \n",
       "\n",
       "                         Location     Activity             Name Sex   ...  \\\n",
       "0     Oceanside, San Diego County     Paddling      Julie Wolfe    F  ...   \n",
       "1  St. Simon Island, Glynn County     Standing  Adyson McNeely     F  ...   \n",
       "2                    Habush, Oahu      Surfing      John Denges    M  ...   \n",
       "3              Arrawarra Headland      Surfing             male    M  ...   \n",
       "4                        La Ticla  Free diving   Gustavo Ramos     M  ...   \n",
       "\n",
       "          Species           Investigator or Source                       pdf  \\\n",
       "0      White shark                R. Collier, GSAF      2018.06.25-Wolfe.pdf   \n",
       "1              NaN  K.McMurray, TrackingSharks.com    2018.06.18-McNeely.pdf   \n",
       "2              NaN  K.McMurray, TrackingSharks.com     2018.06.09-Denges.pdf   \n",
       "3        2 m shark                  B. Myatt, GSAF  2018.06.08-Arrawarra.pdf   \n",
       "4  Tiger shark, 3m                       A .Kipper      2018.06.04-Ramos.pdf   \n",
       "\n",
       "                                        href formula  \\\n",
       "0  http://sharkattackfile.net/spreadsheets/pdf_di...   \n",
       "1  http://sharkattackfile.net/spreadsheets/pdf_di...   \n",
       "2  http://sharkattackfile.net/spreadsheets/pdf_di...   \n",
       "3  http://sharkattackfile.net/spreadsheets/pdf_di...   \n",
       "4  http://sharkattackfile.net/spreadsheets/pdf_di...   \n",
       "\n",
       "                                                href Case Number.1  \\\n",
       "0  http://sharkattackfile.net/spreadsheets/pdf_di...    2018.06.25   \n",
       "1  http://sharkattackfile.net/spreadsheets/pdf_di...    2018.06.18   \n",
       "2  http://sharkattackfile.net/spreadsheets/pdf_di...    2018.06.09   \n",
       "3  http://sharkattackfile.net/spreadsheets/pdf_di...    2018.06.08   \n",
       "4  http://sharkattackfile.net/spreadsheets/pdf_di...    2018.06.04   \n",
       "\n",
       "  Case Number.2 original order Unnamed: 22 Unnamed: 23  \n",
       "0    2018.06.25         6303.0         NaN         NaN  \n",
       "1    2018.06.18         6302.0         NaN         NaN  \n",
       "2    2018.06.09         6301.0         NaN         NaN  \n",
       "3    2018.06.08         6300.0         NaN         NaN  \n",
       "4    2018.06.04         6299.0         NaN         NaN  \n",
       "\n",
       "[5 rows x 24 columns]"
      ]
     },
     "execution_count": 3,
     "metadata": {},
     "output_type": "execute_result"
    }
   ],
   "source": [
    "df.head()"
   ]
  },
  {
   "cell_type": "code",
   "execution_count": 4,
   "id": "e402dbad",
   "metadata": {},
   "outputs": [
    {
     "data": {
      "text/plain": [
       "(25723, 24)"
      ]
     },
     "execution_count": 4,
     "metadata": {},
     "output_type": "execute_result"
    }
   ],
   "source": [
    "df.shape"
   ]
  },
  {
   "cell_type": "code",
   "execution_count": 5,
   "id": "e4113135",
   "metadata": {},
   "outputs": [
    {
     "data": {
      "text/plain": [
       "Index(['Case Number', 'Date', 'Year', 'Type', 'Country', 'Area', 'Location',\n",
       "       'Activity', 'Name', 'Sex ', 'Age', 'Injury', 'Fatal (Y/N)', 'Time',\n",
       "       'Species ', 'Investigator or Source', 'pdf', 'href formula', 'href',\n",
       "       'Case Number.1', 'Case Number.2', 'original order', 'Unnamed: 22',\n",
       "       'Unnamed: 23'],\n",
       "      dtype='object')"
      ]
     },
     "execution_count": 5,
     "metadata": {},
     "output_type": "execute_result"
    }
   ],
   "source": [
    "df.keys()"
   ]
  },
  {
   "cell_type": "code",
   "execution_count": 6,
   "id": "44e4aead",
   "metadata": {},
   "outputs": [
    {
     "data": {
      "text/plain": [
       "array(['R. Collier, GSAF', 'K.McMurray, TrackingSharks.com',\n",
       "       'B. Myatt, GSAF', ..., 'F. Schwartz, p.23; C. Creswell, GSAF',\n",
       "       'The Sun, 10/20/1938', 'S.W. Baker'], dtype=object)"
      ]
     },
     "execution_count": 6,
     "metadata": {},
     "output_type": "execute_result"
    }
   ],
   "source": [
    "#Let´s check some of the unique values:\n",
    "df[\"Unnamed: 22\"].unique()\n",
    "df[\"Unnamed: 23\"].unique()\n",
    "df[\"href formula\"].unique()\n",
    "df[\"Case Number.1\"].unique()\n",
    "df[\"Case Number.2\"].unique()\n",
    "df[\"original order\"].unique()\n",
    "df[\"Investigator or Source\"].unique()"
   ]
  },
  {
   "cell_type": "markdown",
   "id": "bbb714e6",
   "metadata": {},
   "source": [
    "Thanks to the last step, we have verified that within our initial data frame there are several columns that we will not need to confirm the hypotheses. Therefore, to make the data analysis smoother we are going to eliminate them, generating a new dataframe with only those columns that are really useful for this particular project."
   ]
  },
  {
   "cell_type": "code",
   "execution_count": 7,
   "id": "18934c25",
   "metadata": {},
   "outputs": [],
   "source": [
    "df.drop([\"Date\", \"Species \", \"Area\", \"Location\", \"Time\", \"Type\", \n",
    "         \"Name\", \"Injury\",\"href\", \"Unnamed: 22\", \"Unnamed: 23\",\n",
    "         \"href formula\", \"pdf\", \"Case Number\", \"Case Number.1\",\n",
    "         \"Case Number.2\", \"original order\", \"Investigator or Source\"], axis=1, inplace=True)"
   ]
  },
  {
   "cell_type": "code",
   "execution_count": 8,
   "id": "7dcf1a3c",
   "metadata": {},
   "outputs": [
    {
     "data": {
      "text/plain": [
       "(25723, 6)"
      ]
     },
     "execution_count": 8,
     "metadata": {},
     "output_type": "execute_result"
    }
   ],
   "source": [
    "df.shape"
   ]
  },
  {
   "cell_type": "code",
   "execution_count": 9,
   "id": "8e4a758e",
   "metadata": {},
   "outputs": [
    {
     "data": {
      "text/plain": [
       "Year           19423\n",
       "Country        19471\n",
       "Activity       19965\n",
       "Sex            19986\n",
       "Age            22252\n",
       "Fatal (Y/N)    19960\n",
       "dtype: int64"
      ]
     },
     "execution_count": 9,
     "metadata": {},
     "output_type": "execute_result"
    }
   ],
   "source": [
    "# Let´s check how many nan values do we have in our new dataframe:\n",
    "df.isna().sum()"
   ]
  },
  {
   "cell_type": "markdown",
   "id": "5a18ecb3",
   "metadata": {},
   "source": [
    "### 3.2 Drop of duplicate values"
   ]
  },
  {
   "cell_type": "code",
   "execution_count": 10,
   "id": "fc7896a6",
   "metadata": {},
   "outputs": [],
   "source": [
    "# Point out that from this point, out data frame is called df2\n",
    "df2 = df.drop_duplicates()"
   ]
  },
  {
   "cell_type": "code",
   "execution_count": 11,
   "id": "3d75bce0",
   "metadata": {},
   "outputs": [
    {
     "name": "stdout",
     "output_type": "stream",
     "text": [
      "(6002, 6)\n",
      "Index(['Year', 'Country', 'Activity', 'Sex ', 'Age', 'Fatal (Y/N)'], dtype='object')\n"
     ]
    }
   ],
   "source": [
    "# Data after droping duplicate values:\n",
    "print(df2.shape)\n",
    "print(df2.keys())"
   ]
  },
  {
   "cell_type": "code",
   "execution_count": 12,
   "id": "7a35dba5",
   "metadata": {},
   "outputs": [
    {
     "name": "stdout",
     "output_type": "stream",
     "text": [
      "<class 'pandas.core.frame.DataFrame'>\n",
      "Int64Index: 6002 entries, 0 to 6302\n",
      "Data columns (total 6 columns):\n",
      " #   Column       Non-Null Count  Dtype  \n",
      "---  ------       --------------  -----  \n",
      " 0   Year         5999 non-null   float64\n",
      " 1   Country      5953 non-null   object \n",
      " 2   Activity     5482 non-null   object \n",
      " 3   Sex          5461 non-null   object \n",
      " 4   Age          3373 non-null   object \n",
      " 5   Fatal (Y/N)  5468 non-null   object \n",
      "dtypes: float64(1), object(5)\n",
      "memory usage: 328.2+ KB\n"
     ]
    }
   ],
   "source": [
    "# It is also interesting to check de type of our data:\n",
    "df2.info()"
   ]
  },
  {
   "cell_type": "markdown",
   "id": "3e6baba6",
   "metadata": {},
   "source": [
    "### 3.3 Rename  Columns of df2"
   ]
  },
  {
   "cell_type": "code",
   "execution_count": 13,
   "id": "36a81816",
   "metadata": {},
   "outputs": [],
   "source": [
    "columns = list(df2.columns)"
   ]
  },
  {
   "cell_type": "code",
   "execution_count": 14,
   "id": "a368fe4b",
   "metadata": {},
   "outputs": [
    {
     "name": "stderr",
     "output_type": "stream",
     "text": [
      "/Users/franciscovispo/opt/anaconda3/envs/ironhack/lib/python3.8/site-packages/pandas/core/frame.py:5039: SettingWithCopyWarning: \n",
      "A value is trying to be set on a copy of a slice from a DataFrame\n",
      "\n",
      "See the caveats in the documentation: https://pandas.pydata.org/pandas-docs/stable/user_guide/indexing.html#returning-a-view-versus-a-copy\n",
      "  return super().rename(\n"
     ]
    },
    {
     "data": {
      "text/html": [
       "<div>\n",
       "<style scoped>\n",
       "    .dataframe tbody tr th:only-of-type {\n",
       "        vertical-align: middle;\n",
       "    }\n",
       "\n",
       "    .dataframe tbody tr th {\n",
       "        vertical-align: top;\n",
       "    }\n",
       "\n",
       "    .dataframe thead th {\n",
       "        text-align: right;\n",
       "    }\n",
       "</style>\n",
       "<table border=\"1\" class=\"dataframe\">\n",
       "  <thead>\n",
       "    <tr style=\"text-align: right;\">\n",
       "      <th></th>\n",
       "      <th>Year</th>\n",
       "      <th>Country</th>\n",
       "      <th>Activity</th>\n",
       "      <th>Sex</th>\n",
       "      <th>Age</th>\n",
       "      <th>Fatal(Y/N)</th>\n",
       "    </tr>\n",
       "  </thead>\n",
       "  <tbody>\n",
       "    <tr>\n",
       "      <th>0</th>\n",
       "      <td>2018.0</td>\n",
       "      <td>USA</td>\n",
       "      <td>Paddling</td>\n",
       "      <td>F</td>\n",
       "      <td>57</td>\n",
       "      <td>N</td>\n",
       "    </tr>\n",
       "    <tr>\n",
       "      <th>1</th>\n",
       "      <td>2018.0</td>\n",
       "      <td>USA</td>\n",
       "      <td>Standing</td>\n",
       "      <td>F</td>\n",
       "      <td>11</td>\n",
       "      <td>N</td>\n",
       "    </tr>\n",
       "    <tr>\n",
       "      <th>2</th>\n",
       "      <td>2018.0</td>\n",
       "      <td>USA</td>\n",
       "      <td>Surfing</td>\n",
       "      <td>M</td>\n",
       "      <td>48</td>\n",
       "      <td>N</td>\n",
       "    </tr>\n",
       "    <tr>\n",
       "      <th>3</th>\n",
       "      <td>2018.0</td>\n",
       "      <td>AUSTRALIA</td>\n",
       "      <td>Surfing</td>\n",
       "      <td>M</td>\n",
       "      <td>NaN</td>\n",
       "      <td>N</td>\n",
       "    </tr>\n",
       "    <tr>\n",
       "      <th>4</th>\n",
       "      <td>2018.0</td>\n",
       "      <td>MEXICO</td>\n",
       "      <td>Free diving</td>\n",
       "      <td>M</td>\n",
       "      <td>NaN</td>\n",
       "      <td>N</td>\n",
       "    </tr>\n",
       "  </tbody>\n",
       "</table>\n",
       "</div>"
      ],
      "text/plain": [
       "     Year    Country     Activity Sex  Age Fatal(Y/N)\n",
       "0  2018.0        USA     Paddling   F   57          N\n",
       "1  2018.0        USA     Standing   F   11          N\n",
       "2  2018.0        USA      Surfing   M   48          N\n",
       "3  2018.0  AUSTRALIA      Surfing   M  NaN          N\n",
       "4  2018.0     MEXICO  Free diving   M  NaN          N"
      ]
     },
     "execution_count": 14,
     "metadata": {},
     "output_type": "execute_result"
    }
   ],
   "source": [
    "new_columns = {column: column.replace(\" \", \"\") for column in columns}\n",
    "new_columns\n",
    "df2.rename(columns = new_columns, inplace=True)\n",
    "df2.head()"
   ]
  },
  {
   "cell_type": "markdown",
   "id": "5c4e0410",
   "metadata": {},
   "source": [
    "# 4. Cleaning Variables"
   ]
  },
  {
   "cell_type": "markdown",
   "id": "dbb388f6",
   "metadata": {},
   "source": [
    "## 4.1 Through str.methods( ):"
   ]
  },
  {
   "cell_type": "markdown",
   "id": "d5f7f97d",
   "metadata": {},
   "source": [
    "### 4.1.1 Cleaning variable \"SEX\""
   ]
  },
  {
   "cell_type": "code",
   "execution_count": 15,
   "id": "066e758c",
   "metadata": {
    "scrolled": true
   },
   "outputs": [
    {
     "name": "stderr",
     "output_type": "stream",
     "text": [
      "<ipython-input-15-1e49d998fdae>:5: SettingWithCopyWarning: \n",
      "A value is trying to be set on a copy of a slice from a DataFrame.\n",
      "Try using .loc[row_indexer,col_indexer] = value instead\n",
      "\n",
      "See the caveats in the documentation: https://pandas.pydata.org/pandas-docs/stable/user_guide/indexing.html#returning-a-view-versus-a-copy\n",
      "  df2[\"Sex\"] = df2[\"Sex\"].str.replace(\"lli\", \"Unknown\")\n",
      "<ipython-input-15-1e49d998fdae>:6: FutureWarning: The default value of regex will change from True to False in a future version. In addition, single character regular expressions will *not* be treated as literal strings when regex=True.\n",
      "  df2[\"Sex\"] = df2[\"Sex\"].str.replace(\".\", \"Unknown\")\n",
      "<ipython-input-15-1e49d998fdae>:6: SettingWithCopyWarning: \n",
      "A value is trying to be set on a copy of a slice from a DataFrame.\n",
      "Try using .loc[row_indexer,col_indexer] = value instead\n",
      "\n",
      "See the caveats in the documentation: https://pandas.pydata.org/pandas-docs/stable/user_guide/indexing.html#returning-a-view-versus-a-copy\n",
      "  df2[\"Sex\"] = df2[\"Sex\"].str.replace(\".\", \"Unknown\")\n",
      "<ipython-input-15-1e49d998fdae>:7: SettingWithCopyWarning: \n",
      "A value is trying to be set on a copy of a slice from a DataFrame.\n",
      "Try using .loc[row_indexer,col_indexer] = value instead\n",
      "\n",
      "See the caveats in the documentation: https://pandas.pydata.org/pandas-docs/stable/user_guide/indexing.html#returning-a-view-versus-a-copy\n",
      "  df2[\"Sex\"] = df2[\"Sex\"].str.replace(\"N\", \"Unknown\")\n",
      "<ipython-input-15-1e49d998fdae>:8: SettingWithCopyWarning: \n",
      "A value is trying to be set on a copy of a slice from a DataFrame.\n",
      "Try using .loc[row_indexer,col_indexer] = value instead\n",
      "\n",
      "See the caveats in the documentation: https://pandas.pydata.org/pandas-docs/stable/user_guide/indexing.html#returning-a-view-versus-a-copy\n",
      "  df2[\"Sex\"] = df2[\"Sex\"].str.replace(\"M \", \"M\")\n"
     ]
    }
   ],
   "source": [
    "# First we are going to look at the unique values that are under this variable:\n",
    "list(df2[\"Sex\"].unique())\n",
    "\n",
    "#Now we use the string method replace to clean the variable:\n",
    "df2[\"Sex\"] = df2[\"Sex\"].str.replace(\"lli\", \"Unknown\")\n",
    "df2[\"Sex\"] = df2[\"Sex\"].str.replace(\".\", \"Unknown\")\n",
    "df2[\"Sex\"] = df2[\"Sex\"].str.replace(\"N\", \"Unknown\")\n",
    "df2[\"Sex\"] = df2[\"Sex\"].str.replace(\"M \", \"M\")"
   ]
  },
  {
   "cell_type": "markdown",
   "id": "a41246ca",
   "metadata": {},
   "source": [
    "### 4.1.2 Cleaning variable \"FATAL Y/N\""
   ]
  },
  {
   "cell_type": "code",
   "execution_count": 16,
   "id": "8f6ec623",
   "metadata": {},
   "outputs": [
    {
     "name": "stderr",
     "output_type": "stream",
     "text": [
      "<ipython-input-16-7934303ede50>:5: SettingWithCopyWarning: \n",
      "A value is trying to be set on a copy of a slice from a DataFrame.\n",
      "Try using .loc[row_indexer,col_indexer] = value instead\n",
      "\n",
      "See the caveats in the documentation: https://pandas.pydata.org/pandas-docs/stable/user_guide/indexing.html#returning-a-view-versus-a-copy\n",
      "  df2[\"Fatal(Y/N)\"] = df2[\"Fatal(Y/N)\"].str.replace(\" N\", \"N\")\n",
      "<ipython-input-16-7934303ede50>:6: SettingWithCopyWarning: \n",
      "A value is trying to be set on a copy of a slice from a DataFrame.\n",
      "Try using .loc[row_indexer,col_indexer] = value instead\n",
      "\n",
      "See the caveats in the documentation: https://pandas.pydata.org/pandas-docs/stable/user_guide/indexing.html#returning-a-view-versus-a-copy\n",
      "  df2[\"Fatal(Y/N)\"] = df2[\"Fatal(Y/N)\"].str.replace(\"N \", \"N\")\n",
      "<ipython-input-16-7934303ede50>:7: SettingWithCopyWarning: \n",
      "A value is trying to be set on a copy of a slice from a DataFrame.\n",
      "Try using .loc[row_indexer,col_indexer] = value instead\n",
      "\n",
      "See the caveats in the documentation: https://pandas.pydata.org/pandas-docs/stable/user_guide/indexing.html#returning-a-view-versus-a-copy\n",
      "  df2[\"Fatal(Y/N)\"] = df2[\"Fatal(Y/N)\"].str.replace(\"y\", \"Y\")\n",
      "<ipython-input-16-7934303ede50>:8: SettingWithCopyWarning: \n",
      "A value is trying to be set on a copy of a slice from a DataFrame.\n",
      "Try using .loc[row_indexer,col_indexer] = value instead\n",
      "\n",
      "See the caveats in the documentation: https://pandas.pydata.org/pandas-docs/stable/user_guide/indexing.html#returning-a-view-versus-a-copy\n",
      "  df2[\"Fatal(Y/N)\"] = df2[\"Fatal(Y/N)\"].str.replace(\"M\", \"UNKNOWN\")\n",
      "<ipython-input-16-7934303ede50>:9: SettingWithCopyWarning: \n",
      "A value is trying to be set on a copy of a slice from a DataFrame.\n",
      "Try using .loc[row_indexer,col_indexer] = value instead\n",
      "\n",
      "See the caveats in the documentation: https://pandas.pydata.org/pandas-docs/stable/user_guide/indexing.html#returning-a-view-versus-a-copy\n",
      "  df2[\"Fatal(Y/N)\"] = df2[\"Fatal(Y/N)\"].str.replace(\"2017\", \"UNKNOWN\")\n"
     ]
    }
   ],
   "source": [
    "# First we are going to look at the unique values that are under this variable:\n",
    "list(df2[\"Fatal(Y/N)\"].unique())\n",
    "\n",
    "#Now we use the string method replace to clean the variable:\n",
    "df2[\"Fatal(Y/N)\"] = df2[\"Fatal(Y/N)\"].str.replace(\" N\", \"N\")\n",
    "df2[\"Fatal(Y/N)\"] = df2[\"Fatal(Y/N)\"].str.replace(\"N \", \"N\")\n",
    "df2[\"Fatal(Y/N)\"] = df2[\"Fatal(Y/N)\"].str.replace(\"y\", \"Y\")\n",
    "df2[\"Fatal(Y/N)\"] = df2[\"Fatal(Y/N)\"].str.replace(\"M\", \"UNKNOWN\")\n",
    "df2[\"Fatal(Y/N)\"] = df2[\"Fatal(Y/N)\"].str.replace(\"2017\", \"UNKNOWN\")"
   ]
  },
  {
   "cell_type": "markdown",
   "id": "1303f268",
   "metadata": {},
   "source": [
    "## 4.2 Through Regrex &/or Functions :"
   ]
  },
  {
   "cell_type": "markdown",
   "id": "70d09f42",
   "metadata": {},
   "source": [
    "### 4.2.1 Cleaning Variable Activity"
   ]
  },
  {
   "cell_type": "code",
   "execution_count": 17,
   "id": "ec58c86d",
   "metadata": {},
   "outputs": [
    {
     "name": "stderr",
     "output_type": "stream",
     "text": [
      "<ipython-input-17-517379c24a22>:5: SettingWithCopyWarning: \n",
      "A value is trying to be set on a copy of a slice from a DataFrame.\n",
      "Try using .loc[row_indexer,col_indexer] = value instead\n",
      "\n",
      "See the caveats in the documentation: https://pandas.pydata.org/pandas-docs/stable/user_guide/indexing.html#returning-a-view-versus-a-copy\n",
      "  df2[\"Activity\"] = df2[\"Activity\"].fillna(\"Unknown\")\n"
     ]
    },
    {
     "name": "stdout",
     "output_type": "stream",
     "text": [
      "['Other' 'Surf' 'Free Swimming/Diving' 'Fishing' 'Interaction with sharks'\n",
      " 'Water Sports' 'Sea Disaster' 'Felt into the sea' 'Sailing' 'Plane Crash']\n"
     ]
    },
    {
     "name": "stderr",
     "output_type": "stream",
     "text": [
      "<ipython-input-17-517379c24a22>:8: SettingWithCopyWarning: \n",
      "A value is trying to be set on a copy of a slice from a DataFrame.\n",
      "Try using .loc[row_indexer,col_indexer] = value instead\n",
      "\n",
      "See the caveats in the documentation: https://pandas.pydata.org/pandas-docs/stable/user_guide/indexing.html#returning-a-view-versus-a-copy\n",
      "  df2[\"Activity\"] = df2[\"Activity\"].apply(cf.clean_activity)\n"
     ]
    }
   ],
   "source": [
    "# First we are going to look at the unique values that are under this variable:\n",
    "list(df2[\"Activity\"].unique())\n",
    "\n",
    "# As there are nan values on it, we are going to replace those with \"Unknown\", so we can cathegorize them:\n",
    "df2[\"Activity\"] = df2[\"Activity\"].fillna(\"Unknown\")\n",
    "\n",
    "# We apply the function clean_activity to our variable Activity:\n",
    "df2[\"Activity\"] = df2[\"Activity\"].apply(cf.clean_activity)\n",
    "\n",
    "# We visualize the final values after applying the cleaning function.\n",
    "print(df2[\"Activity\"].unique())"
   ]
  },
  {
   "cell_type": "markdown",
   "id": "9fb76359",
   "metadata": {},
   "source": [
    "### 4.2.2 Cleaning Variable Country:"
   ]
  },
  {
   "cell_type": "code",
   "execution_count": 18,
   "id": "88585953",
   "metadata": {},
   "outputs": [
    {
     "name": "stdout",
     "output_type": "stream",
     "text": [
      "['North America' 'Oceania' 'South America' 'Unknown' 'Africa' 'Asia'\n",
      " 'Europe']\n"
     ]
    },
    {
     "name": "stderr",
     "output_type": "stream",
     "text": [
      "<ipython-input-18-4d0a8e24131e>:5: SettingWithCopyWarning: \n",
      "A value is trying to be set on a copy of a slice from a DataFrame.\n",
      "Try using .loc[row_indexer,col_indexer] = value instead\n",
      "\n",
      "See the caveats in the documentation: https://pandas.pydata.org/pandas-docs/stable/user_guide/indexing.html#returning-a-view-versus-a-copy\n",
      "  df2[\"Country\"] = df2[\"Country\"].fillna(\"Unknown\")\n",
      "<ipython-input-18-4d0a8e24131e>:8: SettingWithCopyWarning: \n",
      "A value is trying to be set on a copy of a slice from a DataFrame.\n",
      "Try using .loc[row_indexer,col_indexer] = value instead\n",
      "\n",
      "See the caveats in the documentation: https://pandas.pydata.org/pandas-docs/stable/user_guide/indexing.html#returning-a-view-versus-a-copy\n",
      "  df2[\"Country\"] = df2[\"Country\"].apply(cf.clean_country)\n",
      "/Users/franciscovispo/opt/anaconda3/envs/ironhack/lib/python3.8/site-packages/pandas/core/frame.py:5039: SettingWithCopyWarning: \n",
      "A value is trying to be set on a copy of a slice from a DataFrame\n",
      "\n",
      "See the caveats in the documentation: https://pandas.pydata.org/pandas-docs/stable/user_guide/indexing.html#returning-a-view-versus-a-copy\n",
      "  return super().rename(\n"
     ]
    }
   ],
   "source": [
    "# First we are going to look at the unique values that are under this variable:\n",
    "df2[\"Country\"].unique()\n",
    "\n",
    "# As there are nan values on it, we are going to replace those with \"Unknown\", so we can cathegorize them:\n",
    "df2[\"Country\"] = df2[\"Country\"].fillna(\"Unknown\")\n",
    "\n",
    "# We apply the function clean_activity to our variable Activity:\n",
    "df2[\"Country\"] = df2[\"Country\"].apply(cf.clean_country)\n",
    "\n",
    "# We visualize the final values after applying the cleaning function.\n",
    "print(df2[\"Country\"].unique())\n",
    "\n",
    "#As now we are dealing with continents, we change the column name from Country to Continent:\n",
    "new_column_continent = {column: column.replace(\"Country\",\"Continent\") for column in columns}\n",
    "df2.rename(columns = new_column_continent, inplace=True)"
   ]
  },
  {
   "cell_type": "markdown",
   "id": "42af13aa",
   "metadata": {},
   "source": [
    "### 4.2.3 Cleaning Variable Year"
   ]
  },
  {
   "cell_type": "code",
   "execution_count": 19,
   "id": "306b89a7",
   "metadata": {},
   "outputs": [
    {
     "name": "stderr",
     "output_type": "stream",
     "text": [
      "<ipython-input-19-f0c828877665>:2: SettingWithCopyWarning: \n",
      "A value is trying to be set on a copy of a slice from a DataFrame.\n",
      "Try using .loc[row_indexer,col_indexer] = value instead\n",
      "\n",
      "See the caveats in the documentation: https://pandas.pydata.org/pandas-docs/stable/user_guide/indexing.html#returning-a-view-versus-a-copy\n",
      "  df2[\"Year\"] = df2[\"Year\"].apply(cf.clean_year)\n"
     ]
    }
   ],
   "source": [
    "# We apply the function clean_year to our variable Year:\n",
    "df2[\"Year\"] = df2[\"Year\"].apply(cf.clean_year)"
   ]
  },
  {
   "cell_type": "markdown",
   "id": "055a7299",
   "metadata": {},
   "source": [
    "### 4.2.4 Cleaning variable Age"
   ]
  },
  {
   "cell_type": "code",
   "execution_count": 20,
   "id": "9c7d9546",
   "metadata": {},
   "outputs": [
    {
     "name": "stderr",
     "output_type": "stream",
     "text": [
      "<ipython-input-20-a705dabff960>:5: SettingWithCopyWarning: \n",
      "A value is trying to be set on a copy of a slice from a DataFrame.\n",
      "Try using .loc[row_indexer,col_indexer] = value instead\n",
      "\n",
      "See the caveats in the documentation: https://pandas.pydata.org/pandas-docs/stable/user_guide/indexing.html#returning-a-view-versus-a-copy\n",
      "  df2[\"Age\"] = df2[\"Age\"].apply(cf.clean_age)\n",
      "<ipython-input-20-a705dabff960>:9: SettingWithCopyWarning: \n",
      "A value is trying to be set on a copy of a slice from a DataFrame.\n",
      "Try using .loc[row_indexer,col_indexer] = value instead\n",
      "\n",
      "See the caveats in the documentation: https://pandas.pydata.org/pandas-docs/stable/user_guide/indexing.html#returning-a-view-versus-a-copy\n",
      "  df2[\"Age\"] = df2[\"Age\"].replace(r'^\\s*$', np.nan, regex=True)\n"
     ]
    }
   ],
   "source": [
    "# First we are going to look at the unique values that are under this variable:\n",
    "df2[\"Age\"].unique()\n",
    "\n",
    "# We apply the function clean_activity to our variable Activity:\n",
    "df2[\"Age\"] = df2[\"Age\"].apply(cf.clean_age)\n",
    "\n",
    "#Now we use regex trough a str.replace so we can remove the '' data point:\n",
    "\n",
    "df2[\"Age\"] = df2[\"Age\"].replace(r'^\\s*$', np.nan, regex=True)"
   ]
  },
  {
   "cell_type": "code",
   "execution_count": 21,
   "id": "d7f86c93",
   "metadata": {},
   "outputs": [
    {
     "data": {
      "text/plain": [
       "2635"
      ]
     },
     "execution_count": 21,
     "metadata": {},
     "output_type": "execute_result"
    }
   ],
   "source": [
    "#In this variable we are not going to remove the nan values, as I do not want to bias the latter \n",
    "#visualizations around the mean or median. Thus, this cell just show us the sum of nan values for this variable\n",
    "df2[\"Age\"].isna().sum()"
   ]
  },
  {
   "cell_type": "markdown",
   "id": "7fdc788d",
   "metadata": {},
   "source": [
    "# 5. Download clean data into a new csv. file"
   ]
  },
  {
   "cell_type": "code",
   "execution_count": 22,
   "id": "44eb5707",
   "metadata": {},
   "outputs": [],
   "source": [
    "df2.to_csv(\"data/clean_attacks.csv\")"
   ]
  }
 ],
 "metadata": {
  "kernelspec": {
   "display_name": "ironhack",
   "language": "python",
   "name": "ironhack"
  },
  "language_info": {
   "codemirror_mode": {
    "name": "ipython",
    "version": 3
   },
   "file_extension": ".py",
   "mimetype": "text/x-python",
   "name": "python",
   "nbconvert_exporter": "python",
   "pygments_lexer": "ipython3",
   "version": "3.8.5"
  }
 },
 "nbformat": 4,
 "nbformat_minor": 5
}
